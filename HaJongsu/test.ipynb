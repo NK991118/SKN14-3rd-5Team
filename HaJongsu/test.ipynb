{
 "cells": [
  {
   "cell_type": "code",
   "execution_count": 1,
   "id": "46a717ff",
   "metadata": {},
   "outputs": [
    {
     "name": "stderr",
     "output_type": "stream",
     "text": [
      "c:\\Users\\Playdata2\\anaconda3\\envs\\essay-rag\\Lib\\site-packages\\tqdm\\auto.py:21: TqdmWarning: IProgress not found. Please update jupyter and ipywidgets. See https://ipywidgets.readthedocs.io/en/stable/user_install.html\n",
      "  from .autonotebook import tqdm as notebook_tqdm\n",
      "c:\\Users\\Playdata2\\anaconda3\\envs\\essay-rag\\Lib\\site-packages\\paddle\\utils\\cpp_extension\\extension_utils.py:715: UserWarning: No ccache found. Please be aware that recompiling all source files may be required. You can download and install ccache from: https://github.com/ccache/ccache/blob/master/doc/INSTALL.md\n",
      "  warnings.warn(warning_message)\n",
      "\u001b[32mCreating model: ('PP-LCNet_x1_0_doc_ori', None)\u001b[0m\n",
      "\u001b[32mUsing official model (PP-LCNet_x1_0_doc_ori), the model files will be automatically downloaded and saved in C:\\Users\\Playdata2\\.paddlex\\official_models.\u001b[0m\n",
      "Fetching 6 files: 100%|██████████| 6/6 [00:00<00:00, 459.61it/s]\n",
      "\u001b[32mCreating model: ('UVDoc', None)\u001b[0m\n",
      "\u001b[33mThe model(UVDoc) is not supported to run in MKLDNN mode! Using `paddle` instead!\u001b[0m\n",
      "\u001b[32mUsing official model (UVDoc), the model files will be automatically downloaded and saved in C:\\Users\\Playdata2\\.paddlex\\official_models.\u001b[0m\n",
      "Fetching 6 files: 100%|██████████| 6/6 [00:00<00:00, 2999.14it/s]\n",
      "\u001b[32mCreating model: ('PP-LCNet_x1_0_textline_ori', None)\u001b[0m\n",
      "\u001b[32mUsing official model (PP-LCNet_x1_0_textline_ori), the model files will be automatically downloaded and saved in C:\\Users\\Playdata2\\.paddlex\\official_models.\u001b[0m\n",
      "Fetching 6 files: 100%|██████████| 6/6 [00:00<00:00, 6001.87it/s]\n",
      "\u001b[32mCreating model: ('PP-OCRv5_server_det', None)\u001b[0m\n",
      "\u001b[32mUsing official model (PP-OCRv5_server_det), the model files will be automatically downloaded and saved in C:\\Users\\Playdata2\\.paddlex\\official_models.\u001b[0m\n",
      "Fetching 6 files: 100%|██████████| 6/6 [00:00<00:00, 2996.64it/s]\n",
      "\u001b[32mCreating model: ('korean_PP-OCRv5_mobile_rec', None)\u001b[0m\n",
      "\u001b[32mUsing official model (korean_PP-OCRv5_mobile_rec), the model files will be automatically downloaded and saved in C:\\Users\\Playdata2\\.paddlex\\official_models.\u001b[0m\n",
      "Fetching 6 files: 100%|██████████| 6/6 [00:00<00:00, 3028.01it/s]\n",
      "C:\\Users\\Playdata2\\AppData\\Local\\Temp\\ipykernel_20524\\4134038453.py:13: DeprecationWarning: Please use `predict` instead.\n",
      "  results = ocr.ocr(image_path)\n"
     ]
    }
   ],
   "source": [
    "from paddleocr import PaddleOCR\n",
    "from PIL import Image\n",
    "from pprint import pprint\n",
    "import numpy as np\n",
    "\n",
    "# 1. OCR 모델 초기화 (한국어 + 영어 지원)\n",
    "ocr = PaddleOCR(lang='korean')  # lang='korean' 또는 'korean+english'\n",
    "\n",
    "# 2. 이미지 파일 경로\n",
    "image_path = './hand_writing.jpeg'\n",
    "img = np.array(Image.open(image_path).convert(\"RGB\"))\n",
    "# 3. 이미지에서 텍스트 인식\n",
    "results = ocr.ocr(image_path)\n",
    "\n",
    "ocr_result = results[0]\n"
   ]
  },
  {
   "cell_type": "code",
   "execution_count": 2,
   "id": "27ee961f",
   "metadata": {},
   "outputs": [
    {
     "name": "stdout",
     "output_type": "stream",
     "text": [
      "['열렸어요',\n",
      " '냉장고친구들은 너무 놀라 꽁꽁꽁',\n",
      " '얼어버렸어요냐느옹',\n",
      " '\"지금이야가자”',\n",
      " '퍼뜩정신을차린달걀친구들이',\n",
      " '피자를들고 전자리인지쪽으로 달려',\n",
      " '갔어요달걀친구들은 피자를 전자',\n",
      " '레인지에 넣고다이얼을 돌렸어요',\n",
      " '우아, 제다로되고 있어D”',\n",
      " '달걀친구들은빙글빙글돌아가는',\n",
      " '끄자를정신없이바라보았어요냥이가',\n",
      " '금슬금 다가오는 줄도 모르고 말이에요']\n"
     ]
    }
   ],
   "source": [
    "pprint(ocr_result['rec_texts'])"
   ]
  },
  {
   "cell_type": "code",
   "execution_count": 3,
   "id": "21013a1c",
   "metadata": {},
   "outputs": [],
   "source": [
    "extracted_text = \"\\n\".join([line for line in ocr_result['rec_texts']])\n",
    "\n"
   ]
  },
  {
   "cell_type": "code",
   "execution_count": 4,
   "id": "153f9fdf",
   "metadata": {},
   "outputs": [
    {
     "name": "stdout",
     "output_type": "stream",
     "text": [
      "열렸어요\n",
      "냉장고친구들은 너무 놀라 꽁꽁꽁\n",
      "얼어버렸어요냐느옹\n",
      "\"지금이야가자”\n",
      "퍼뜩정신을차린달걀친구들이\n",
      "피자를들고 전자리인지쪽으로 달려\n",
      "갔어요달걀친구들은 피자를 전자\n",
      "레인지에 넣고다이얼을 돌렸어요\n",
      "우아, 제다로되고 있어D”\n",
      "달걀친구들은빙글빙글돌아가는\n",
      "끄자를정신없이바라보았어요냥이가\n",
      "금슬금 다가오는 줄도 모르고 말이에요\n"
     ]
    }
   ],
   "source": [
    "print(extracted_text)"
   ]
  },
  {
   "cell_type": "code",
   "execution_count": null,
   "id": "d7113a5c",
   "metadata": {},
   "outputs": [
    {
     "name": "stdout",
     "output_type": "stream",
     "text": [
      "✅ 추출 완료: assets/hongik/hongik_2024_1.pdf\n"
     ]
    }
   ],
   "source": [
    "from pypdf import PdfReader, PdfWriter\n",
    "\n",
    "# 🔸 원본 PDF 파일 경로\n",
    "input_pdf_name = \"assets/hongik/hongik_2024\"\n",
    "output_pdf_name = input_pdf_name + \"_2\"\n",
    "input_pdf_path = input_pdf_name + \".pdf\"\n",
    "output_pdf_path = output_pdf_name + \".pdf\"\n",
    "\n",
    "# 🔸 추출하고 싶은 페이지 번호 (0부터 시작, 예: 1쪽은 0)\n",
    "pages_to_extract = [10, 11, 12]  # 예: 1, 3, 5페이지를 추출하고 싶을 경우\n",
    "\n",
    "# 🔸 리더와 라이터 준비\n",
    "reader = PdfReader(input_pdf_path)\n",
    "writer = PdfWriter()\n",
    "\n",
    "# 🔸 원하는 페이지만 추출\n",
    "for page_num in pages_to_extract:\n",
    "    writer.add_page(reader.pages[page_num])\n",
    "\n",
    "# 🔸 새로운 PDF로 저장\n",
    "with open(output_pdf_path, \"wb\") as f:\n",
    "    writer.write(f)\n",
    "\n",
    "print(f\"✅ 추출 완료: {output_pdf_path}\")\n"
   ]
  },
  {
   "cell_type": "code",
   "execution_count": null,
   "id": "8c3b45bb",
   "metadata": {},
   "outputs": [],
   "source": []
  }
 ],
 "metadata": {
  "kernelspec": {
   "display_name": "essay-rag",
   "language": "python",
   "name": "python3"
  },
  "language_info": {
   "codemirror_mode": {
    "name": "ipython",
    "version": 3
   },
   "file_extension": ".py",
   "mimetype": "text/x-python",
   "name": "python",
   "nbconvert_exporter": "python",
   "pygments_lexer": "ipython3",
   "version": "3.12.0"
  }
 },
 "nbformat": 4,
 "nbformat_minor": 5
}
